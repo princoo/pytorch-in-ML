{
  "nbformat": 4,
  "nbformat_minor": 0,
  "metadata": {
    "colab": {
      "provenance": [],
      "gpuType": "T4",
      "authorship_tag": "ABX9TyMFE717Yw1f/UpIs6SyS027",
      "include_colab_link": true
    },
    "kernelspec": {
      "name": "python3",
      "display_name": "Python 3"
    },
    "language_info": {
      "name": "python"
    },
    "accelerator": "GPU"
  },
  "cells": [
    {
      "cell_type": "markdown",
      "metadata": {
        "id": "view-in-github",
        "colab_type": "text"
      },
      "source": [
        "<a href=\"https://colab.research.google.com/github/princoo/pytorch-in-ML/blob/main/01_pytorch_workflow.ipynb\" target=\"_parent\"><img src=\"https://colab.research.google.com/assets/colab-badge.svg\" alt=\"Open In Colab\"/></a>"
      ]
    },
    {
      "cell_type": "markdown",
      "source": [
        "# Pytorch workflow"
      ],
      "metadata": {
        "id": "ZuSaVQk3_sRs"
      }
    },
    {
      "cell_type": "code",
      "execution_count": 1,
      "metadata": {
        "id": "p9KDNq0P_G0A",
        "colab": {
          "base_uri": "https://localhost:8080/"
        },
        "outputId": "883c98e2-a64f-46ce-d144-a8901779eaa5"
      },
      "outputs": [
        {
          "output_type": "execute_result",
          "data": {
            "text/plain": [
              "{1: 'data (prepare and load)',\n",
              " 2: 'build model',\n",
              " 3: 'fitting the model to data (training)',\n",
              " 4: 'making predictions and evaluating a model (inference)',\n",
              " 5: 'saving and loading a model',\n",
              " 6: 'putting it all together'}"
            ]
          },
          "metadata": {},
          "execution_count": 1
        }
      ],
      "source": [
        "what_were_covering = {1:\"data (prepare and load)\",\n",
        "                      2:\"build model\",\n",
        "                      3:\"fitting the model to data (training)\",\n",
        "                      4:\"making predictions and evaluating a model (inference)\",\n",
        "                      5:\"saving and loading a model\",\n",
        "                      6:\"putting it all together\"}\n",
        "what_were_covering"
      ]
    },
    {
      "cell_type": "code",
      "source": [
        "import torch\n",
        "from torch import nn # nn contains all of the building blocks for neural networks\n",
        "import matplotlib.pyplot as plt\n",
        "\n",
        "# check Pytorch vervion\n",
        "torch.__version__"
      ],
      "metadata": {
        "id": "2r-0Sc9OBAn3",
        "colab": {
          "base_uri": "https://localhost:8080/",
          "height": 35
        },
        "outputId": "2cd0d36e-bcdf-494e-8725-c13018b5e2c4"
      },
      "execution_count": 2,
      "outputs": [
        {
          "output_type": "execute_result",
          "data": {
            "text/plain": [
              "'2.3.1+cu121'"
            ],
            "application/vnd.google.colaboratory.intrinsic+json": {
              "type": "string"
            }
          },
          "metadata": {},
          "execution_count": 2
        }
      ]
    },
    {
      "cell_type": "markdown",
      "source": [
        "## 1. Data (preparing and loading)\n",
        "\n",
        "To showcase this, let's create some *known* data using the linear regression formular.\n",
        "\n",
        "we will use a linera regression formular to make a straight line with known **parameters**"
      ],
      "metadata": {
        "id": "RIw8yAOYCP50"
      }
    },
    {
      "cell_type": "code",
      "source": [
        "#  create known parameters\n",
        "weight = 0.7\n",
        "bias = 0.3\n",
        "\n",
        "#  create\n",
        "start = 0\n",
        "end = 1\n",
        "step = 0.02\n",
        "X = torch.arange(start,end,step).unsqueeze(dim=1)\n",
        "y = weight * X + bias\n",
        "\n",
        "X[:10], y[:10]\n",
        "\n",
        "\n"
      ],
      "metadata": {
        "id": "ou3qJdM3CIXN"
      },
      "execution_count": null,
      "outputs": []
    },
    {
      "cell_type": "code",
      "source": [
        "len(X), len(y)\n"
      ],
      "metadata": {
        "id": "KqB8u7OaF4Ph",
        "colab": {
          "base_uri": "https://localhost:8080/"
        },
        "outputId": "7c804291-d87c-419b-e95c-13b3495ad397"
      },
      "execution_count": 4,
      "outputs": [
        {
          "output_type": "execute_result",
          "data": {
            "text/plain": [
              "(50, 50)"
            ]
          },
          "metadata": {},
          "execution_count": 4
        }
      ]
    },
    {
      "cell_type": "markdown",
      "source": [
        "### Splitting data into training and test sets (one of the most important concepts in machine learning in general)\n",
        "\n",
        "Let's create a training and test set with our data."
      ],
      "metadata": {
        "id": "2T7s-de1yECr"
      }
    },
    {
      "cell_type": "code",
      "source": [
        "# Create a train/test split\n",
        "train_split = int(0.8 * len(X))\n",
        "X_train, y_train = X[:train_split], y[:train_split]\n",
        "X_test, y_test = X[train_split:], y[train_split:]\n",
        "\n",
        "len(X_train), len(y_train), len(X_test), len(y_test)"
      ],
      "metadata": {
        "colab": {
          "base_uri": "https://localhost:8080/"
        },
        "id": "wL2zZ7NVyGKF",
        "outputId": "44870024-41e5-4c2f-b64c-7c1a423a6953"
      },
      "execution_count": 5,
      "outputs": [
        {
          "output_type": "execute_result",
          "data": {
            "text/plain": [
              "(40, 40, 10, 10)"
            ]
          },
          "metadata": {},
          "execution_count": 5
        }
      ]
    },
    {
      "cell_type": "markdown",
      "source": [
        "How might we better visualize our data?\n",
        "\n",
        "This is where the data explorer's motto comes in!\n",
        "\n",
        "\"Visualize, visualize, visualize!\""
      ],
      "metadata": {
        "id": "rCKfTpxZyKyv"
      }
    },
    {
      "cell_type": "code",
      "source": [
        "def plot_predictions(train_data=X_train,\n",
        "                     train_labels=y_train,\n",
        "                     test_data=X_test,\n",
        "                     test_labels=y_test,\n",
        "                     predictions=None):\n",
        "  \"\"\"\n",
        "  Plots training data, test data and compares predictions.\n",
        "  \"\"\"\n",
        "  plt.figure(figsize=(10, 7))\n",
        "\n",
        "  print(f\"Type of predictions: {type(predictions)}\")\n",
        "\n",
        "  # Plot training data in blue\n",
        "  plt.scatter(train_data, train_labels, c=\"b\", s=4, label=\"Training data\")\n",
        "\n",
        "  # Plot test data in green\n",
        "  plt.scatter(test_data, test_labels, c=\"g\", s=4, label=\"Testing data\")\n",
        "\n",
        "  # Are there predictions?\n",
        "  if predictions is not None:\n",
        "    # Plot the predictions if they exist\n",
        "    plt.scatter(test_data, predictions, c=\"r\", s=4, label=\"Predictions\")\n",
        "\n",
        "  # Show the legend\n",
        "  plt.legend(prop={\"size\": 14});"
      ],
      "metadata": {
        "id": "nzHBVDR7yLdy"
      },
      "execution_count": 6,
      "outputs": []
    },
    {
      "cell_type": "code",
      "source": [
        "plot_predictions();"
      ],
      "metadata": {
        "id": "knvw64VFySQd"
      },
      "execution_count": null,
      "outputs": []
    },
    {
      "cell_type": "markdown",
      "source": [
        "## 2. Build model\n",
        "\n",
        "Our first PyTorch model!\n",
        "\n",
        "\n",
        "What our model does:\n",
        "* Start with random values (weight & bias)\n",
        "* Look at training data and adjust the random values to better represent (or get closer to) the ideal values (the weight & bias values we used to create the data)\n",
        "\n",
        "How does it do so?\n",
        "\n",
        "Through two main algorithms:\n",
        "1. Gradient descent - https://youtu.be/IHZwWFHWa-w\n",
        "2. Backpropagation - https://youtu.be/Ilg3gGewQ5U"
      ],
      "metadata": {
        "id": "tH_Q8mKSyWQk"
      }
    },
    {
      "cell_type": "code",
      "source": [
        "from torch import nn\n",
        "\n",
        "# Create linear regression model class\n",
        "class LinearRegressionModel(nn.Module): # <- almost everything in PyTorch inherhits from nn.Module\n",
        "  def __init__(self):\n",
        "    super().__init__()\n",
        "    self.weights = nn.Parameter(torch.randn(1, # <- start with a random weight and try to adjust it to the ideal weight\n",
        "                                            requires_grad=True, # <- can this parameter be updated via gradient descent?\n",
        "                                            dtype=torch.float)) # <- PyTorch loves the datatype torch.float32\n",
        "\n",
        "    self.bias = nn.Parameter(torch.randn(1, # <- start with a random bias and try to adjust it to the ideal bias\n",
        "                                         requires_grad=True, # <- can this parameter be updated via gradient descent?\n",
        "                                         dtype=torch.float)) # <- PyTorch loves the datatype torch.float32\n",
        "\n",
        "  # Forward method to define the computation in the model\n",
        "  def forward(self, x: torch.Tensor) -> torch.Tensor: # <- \"x\" is the input data\n",
        "    return self.weights * x + self.bias # this is the linear regression formula"
      ],
      "metadata": {
        "id": "2At1e36myfUG"
      },
      "execution_count": 8,
      "outputs": []
    },
    {
      "cell_type": "markdown",
      "source": [
        "### PyTorch model building essentials\n",
        "\n",
        "* torch.nn - contains all of the buildings for computational graphs (a neural network can be considered a computational graph)\n",
        "* torch.nn.Parameter - what parameters should our model try and learn, often a PyTorch layer from torch.nn will set these for us\n",
        "* torch.nn.Module - The base class for all neural network modules, if you subclass it, you should overwrite forward()\n",
        "* torch.optim - this where the optimizers in PyTorch live, they will help with gradient descent\n",
        "* def forward() - All nn.Module subclasses require you to overwrite forward(), this method defines what happens in the forward computation\n",
        "\n",
        "See more of these essential modules via the PyTorch cheatsheet - https://pytorch.org/tutorials/beginner/ptcheat.html"
      ],
      "metadata": {
        "id": "yd5AluNYyvMO"
      }
    },
    {
      "cell_type": "markdown",
      "source": [
        "### Checking the contents of our PyTorch model\n",
        "\n",
        "Now we've created a model, let's see what's inside..."
      ],
      "metadata": {
        "id": "-pCuc-dVzCUf"
      }
    },
    {
      "cell_type": "code",
      "source": [
        "#  create a random seed\n",
        "torch.manual_seed(42)\n",
        "\n",
        "#  create an instance of the model (this is a subclass of nn.module)\n",
        "model_0 = LinearRegressionModel()\n",
        "\n",
        "# list the parameters\n",
        "list(model_0.parameters())"
      ],
      "metadata": {
        "id": "htz7iOYWy_-s"
      },
      "execution_count": null,
      "outputs": []
    },
    {
      "cell_type": "code",
      "source": [
        "# List named parameters\n",
        "model_0.state_dict()"
      ],
      "metadata": {
        "id": "QHl--U4SFYEo"
      },
      "execution_count": null,
      "outputs": []
    },
    {
      "cell_type": "markdown",
      "source": [
        "### making predictions using `torch.inference_mode()`.\n",
        "\n",
        "we can see the model's pred power , by seeing how well it predicts `y_test` based on `x_test`.\n",
        "\n",
        "when we pass data to the  model, it runs it through the `forward() method`\n"
      ],
      "metadata": {
        "id": "VK5_SupoH2W5"
      }
    },
    {
      "cell_type": "code",
      "source": [
        "#  make predictions with model\n",
        "\n",
        "with torch.inference_mode():\n",
        "  y_predict = model_0(X_test)\n",
        "\n",
        "# with torch.no_grad(): <- you can also use this one but inference is mostly prefered\n",
        "#   y_predict = model_0(X_test)\n",
        "\n",
        "y_predict"
      ],
      "metadata": {
        "id": "OatPvdLdGuZj"
      },
      "execution_count": null,
      "outputs": []
    },
    {
      "cell_type": "code",
      "source": [
        "plot_predictions(predictions=y_predict)"
      ],
      "metadata": {
        "id": "BKjjywAmLP5U"
      },
      "execution_count": null,
      "outputs": []
    },
    {
      "cell_type": "markdown",
      "source": [
        "### 3. Train model\n",
        "\n",
        "things we neeed to train the model:\n",
        "1. Loss function\n",
        "2. optimizer: takes into account the loss of model and adjust the model's\n",
        "parameters to improve the loss function.\n",
        "\n",
        "And specifically for pytorch, we neeed:\n",
        "* A training loop\n",
        "* A testing loop"
      ],
      "metadata": {
        "id": "elHVzUlUUQ6Y"
      }
    },
    {
      "cell_type": "code",
      "source": [
        "# Set up a loss function\n",
        "loss_fn = nn.L1Loss()\n",
        "\n",
        "#  Set up an optimizer (stochastic gradient descent)\n",
        "optimizer = torch.optim.SGD(params=model_0.parameters(), # we want to optimize the parameters in our model\n",
        "                            lr=0.01) # lr = learning rate = possibly the most important hyperparameter"
      ],
      "metadata": {
        "id": "OaEdKtunQ_HY"
      },
      "execution_count": 13,
      "outputs": []
    },
    {
      "cell_type": "markdown",
      "source": [
        "### Building a training loopa(and a testing loop) in PyTorch.\n",
        "\n",
        "A couple of things we need in a training loop\n",
        "\n",
        "0. Loop through the data\n",
        "1. Forward pass (this involves data moving in our model's forward function) to make prediction on data -\n",
        "also called forwad propagation\n",
        "\n",
        "2. Calculate the loss(compare forward pass predictions to ground truth labels)\n",
        "\n",
        "3. Optimizer zero grad\n",
        "4. Loss backward - move backwards through the network to calculate the gradients of each of the parameters of our model with respect to the loss (**back propagation**)\n",
        "5. Optimizer step - use the optimizer to adjust parameters to try and improve the loss (**gradient descent**)\n",
        "\n"
      ],
      "metadata": {
        "id": "VQQTD8PWKUNx"
      }
    },
    {
      "cell_type": "code",
      "source": [
        "#  an echo is one loop through the data\n",
        "\n",
        "epochs = 200\n",
        "\n",
        "# tracking dif values\n",
        "epoch_count =[]\n",
        "loss_values =[]\n",
        "test_loss_values =[]\n",
        "\n",
        "### TRAINING\n",
        "\n",
        "# 0. loop through the data\n",
        "\n",
        "for epoch in range(epochs):\n",
        "  #  set the model to training mode\n",
        "  model_0.train() # train mode in pytorch sets all prameters that require gradient to require gradient\n",
        "\n",
        "  # 1. Forward pass\n",
        "  y_pred = model_0(X_train)\n",
        "\n",
        "  # 2. Calculate the loss\n",
        "  loss = loss_fn(y_pred, y_train)\n",
        "\n",
        "  # 3. Optimizer zero grad\n",
        "  optimizer.zero_grad()\n",
        "\n",
        "  # 4. Perform backpropagation on the loss with respect to the parameters of the model\n",
        "  loss.backward()\n",
        "\n",
        "  # 5 . Step the optimizer (perform gradient descent)\n",
        "  optimizer.step() # by default how the optimizer changes will accumulate through the loop so... we have to zero them above in step 3 for the next iteration of the loop\n",
        "\n",
        "  # TESTING\n",
        "  model_0.eval() # turns off dif settings in the model not needed for evaluation/ testing (dropouts/batch norm layers)\n",
        "  with torch.inference_mode():\n",
        "    # 1. forward pass\n",
        "    test_pred = model_0(X_test)\n",
        "\n",
        "    # 2. calculate the loss\n",
        "    test_loss = loss_fn(test_pred, y_test)\n",
        "  # print whats happening\n",
        "  if epoch % 10 ==0:\n",
        "    epoch_count.append(epoch)\n",
        "    loss_values.append(loss)\n",
        "    test_loss_values.append(test_loss)\n",
        "    print(f\"Epoch: {epoch} | Loss: {loss} | Test loss: {test_loss}\")\n",
        "  # Print out model state_dict()\n",
        "  print(model_0.state_dict())"
      ],
      "metadata": {
        "id": "O6mDuDpRKXYA"
      },
      "execution_count": null,
      "outputs": []
    },
    {
      "cell_type": "code",
      "source": [
        "#  plot the loss curves\n",
        "\n",
        "plt.plot(epoch_count, torch.tensor(loss_values).numpy(), label=\"Train loss\")\n",
        "plt.plot(epoch_count, torch.tensor(test_loss_values).numpy(), label=\"Test loss\")\n",
        "plt.title(\"Training and test loss curve\")\n",
        "plt.ylabel(\"Loss\")\n",
        "plt.ylabel(\"Epochs\")\n",
        "plt.legend()"
      ],
      "metadata": {
        "colab": {
          "base_uri": "https://localhost:8080/",
          "height": 469
        },
        "id": "Nr7Ou_l6mo84",
        "outputId": "4e83cdc1-47c8-4f42-92fa-d28f675ad97b"
      },
      "execution_count": 15,
      "outputs": [
        {
          "output_type": "execute_result",
          "data": {
            "text/plain": [
              "<matplotlib.legend.Legend at 0x7ee8ae4aee90>"
            ]
          },
          "metadata": {},
          "execution_count": 15
        },
        {
          "output_type": "display_data",
          "data": {
            "text/plain": [
              "<Figure size 640x480 with 1 Axes>"
            ],
            "image/png": "[encoded data removed]"
          },
          "metadata": {}
        }
      ]
    },
    {
      "cell_type": "code",
      "source": [
        "with torch.inference_mode():\n",
        "  y_pred_new = model_0(X_test)"
      ],
      "metadata": {
        "id": "b-aTd19Ob4_T"
      },
      "execution_count": 16,
      "outputs": []
    },
    {
      "cell_type": "code",
      "source": [
        "# predictions after some training\n",
        "plot_predictions(predictions=y_pred_new)"
      ],
      "metadata": {
        "colab": {
          "base_uri": "https://localhost:8080/",
          "height": 616
        },
        "id": "VMjTNlUPcZe9",
        "outputId": "80bd2141-d90e-488c-d468-2f65f4765ce2"
      },
      "execution_count": 17,
      "outputs": [
        {
          "output_type": "stream",
          "name": "stdout",
          "text": [
            "Type of predictions: <class 'torch.Tensor'>\n"
          ]
        },
        {
          "output_type": "display_data",
          "data": {
            "text/plain": [
              "<Figure size 1000x700 with 1 Axes>"
            ],
            "image/png": "[encoded data removed]"
          },
          "metadata": {}
        }
      ]
    },
    {
      "cell_type": "markdown",
      "source": [
        "### Saving a model in pytorch\n",
        "\n",
        "there are 3 main methos for saving and loading model in pytorch\n",
        "\n",
        "1. `torch.save()` - allows to save a pytorch object in python's pickel format\n",
        "2. `torch.load()`- allows to load a saves pytorch object\n",
        "3. `torch.nn.Module.load_state_dict()` - this allows to load a model's saved state dictionary"
      ],
      "metadata": {
        "id": "NookWY2Bqwgv"
      }
    },
    {
      "cell_type": "code",
      "source": [
        "#  Saving our pytorch model\n",
        "from pathlib import Path\n",
        "\n",
        "#  1. create a model directory\n",
        "MODEL_PATH= Path(\"models\")\n",
        "MODEL_PATH.mkdir(parents=True, exist_ok=True)\n",
        "\n",
        "# 2. Create a model save path\n",
        "MODEL_NAME = \"01_pytorch_workflow_model_0.pth\"\n",
        "MODEL_SAVE_PATH = MODEL_PATH / MODEL_NAME\n",
        "\n",
        "MODEL_SAVE_PATH\n",
        "\n",
        "# 3. save the model state dicts\n",
        "print(f\"saving model to: {MODEL_SAVE_PATH}\")\n",
        "torch.save(obj=model_0.state_dict(),\n",
        "           f=MODEL_SAVE_PATH)"
      ],
      "metadata": {
        "id": "ZXGgLOG_eQ5T",
        "colab": {
          "base_uri": "https://localhost:8080/"
        },
        "outputId": "96aa10bd-5882-4c21-e3d1-a744858a0685"
      },
      "execution_count": 18,
      "outputs": [
        {
          "output_type": "stream",
          "name": "stdout",
          "text": [
            "saving model to: models/01_pytorch_workflow_model_0.pth\n"
          ]
        }
      ]
    },
    {
      "cell_type": "code",
      "source": [
        "# check the model folders\n",
        "!ls -l models"
      ],
      "metadata": {
        "id": "hwMVTl9AzZxw",
        "colab": {
          "base_uri": "https://localhost:8080/"
        },
        "outputId": "120a69ca-a825-4da5-bcf2-d0d882c31f4c"
      },
      "execution_count": 19,
      "outputs": [
        {
          "output_type": "stream",
          "name": "stdout",
          "text": [
            "total 4\n",
            "-rw-r--r-- 1 root root 1680 Aug  8 13:35 01_pytorch_workflow_model_0.pth\n"
          ]
        }
      ]
    },
    {
      "cell_type": "markdown",
      "source": [
        "### Loading the pytorch model\n",
        "\n",
        "since we saved the model state_dicts rather thatn the entire model, we'll create an new instance of our model class and load the saved  `state_dicts`"
      ],
      "metadata": {
        "id": "ZVPa5rRC02yW"
      }
    },
    {
      "cell_type": "code",
      "source": [
        "loaded_model_0 = LinearRegressionModel()\n",
        "\n",
        "#  load the saved statedicts of model_0 (this will update the instance with the updated parameter)\n",
        "loaded_model_0.load_state_dict(torch.load(f=MODEL_SAVE_PATH))"
      ],
      "metadata": {
        "id": "vDjsiaix0Rd7",
        "colab": {
          "base_uri": "https://localhost:8080/"
        },
        "outputId": "08ad7695-c612-4850-dd82-4b7df3346275"
      },
      "execution_count": 20,
      "outputs": [
        {
          "output_type": "execute_result",
          "data": {
            "text/plain": [
              "<All keys matched successfully>"
            ]
          },
          "metadata": {},
          "execution_count": 20
        }
      ]
    },
    {
      "cell_type": "code",
      "source": [
        "loaded_model_0.state_dict()"
      ],
      "metadata": {
        "id": "qSHt2uFw2AyH",
        "colab": {
          "base_uri": "https://localhost:8080/"
        },
        "outputId": "de8e1a89-fa85-442d-fcdc-aa9d1b9ba798"
      },
      "execution_count": 21,
      "outputs": [
        {
          "output_type": "execute_result",
          "data": {
            "text/plain": [
              "OrderedDict([('weights', tensor([0.6990])), ('bias', tensor([0.3093]))])"
            ]
          },
          "metadata": {},
          "execution_count": 21
        }
      ]
    },
    {
      "cell_type": "code",
      "source": [
        "#  just for testing lets make predictions using our loaded model\n",
        "loaded_model_0.eval()\n",
        "\n",
        "with torch.inference_mode():\n",
        "  loaded_model_pred = loaded_model_0(X_test)\n",
        "\n",
        "loaded_model_pred"
      ],
      "metadata": {
        "id": "t4GIR1Tc2C0X"
      },
      "execution_count": null,
      "outputs": []
    },
    {
      "cell_type": "code",
      "source": [
        "model_0.eval()\n",
        "\n",
        "with torch.inference_mode():\n",
        "  y_pred = model_0(X_test)\n",
        "\n",
        "#  now lets compare the prediction for both models\n",
        "y_pred == loaded_model_pred"
      ],
      "metadata": {
        "id": "Ae92e_65k3K0"
      },
      "execution_count": null,
      "outputs": []
    },
    {
      "cell_type": "markdown",
      "source": [
        "## 6. putting it all together\n",
        "\n",
        "lets go back through the steps above and see it all in one place"
      ],
      "metadata": {
        "id": "O0KR-XCcpHn2"
      }
    },
    {
      "cell_type": "code",
      "source": [
        "# import neccessary packages\n",
        "import torch\n",
        "from torch import nn\n",
        "import matplotlib.pyplot as plt\n",
        "\n",
        "# we check pytorch version\n",
        "torch.__version__"
      ],
      "metadata": {
        "colab": {
          "base_uri": "https://localhost:8080/",
          "height": 35
        },
        "id": "iPwxzs5ppq2i",
        "outputId": "15f5491c-8726-40cd-dbe9-61f5c9300777"
      },
      "execution_count": 24,
      "outputs": [
        {
          "output_type": "execute_result",
          "data": {
            "text/plain": [
              "'2.3.1+cu121'"
            ],
            "application/vnd.google.colaboratory.intrinsic+json": {
              "type": "string"
            }
          },
          "metadata": {},
          "execution_count": 24
        }
      ]
    },
    {
      "cell_type": "code",
      "source": [
        "#  create device-agnostic code (for when we have GPU if available)\n",
        "\n",
        "device = \"cuda\" if torch.cuda.is_available() else \"cpu\"\n",
        "device"
      ],
      "metadata": {
        "colab": {
          "base_uri": "https://localhost:8080/",
          "height": 35
        },
        "id": "T0ARVReIp-31",
        "outputId": "d40506cd-5c90-4a83-9415-c1913e155f8f"
      },
      "execution_count": 25,
      "outputs": [
        {
          "output_type": "execute_result",
          "data": {
            "text/plain": [
              "'cuda'"
            ],
            "application/vnd.google.colaboratory.intrinsic+json": {
              "type": "string"
            }
          },
          "metadata": {},
          "execution_count": 25
        }
      ]
    },
    {
      "cell_type": "markdown",
      "source": [
        "### 6.1 *Data*"
      ],
      "metadata": {
        "id": "rVf4zcXXpR21"
      }
    },
    {
      "cell_type": "code",
      "source": [
        "#  create some data using linear regression formular\n",
        "#  y = Bx + A or weight + bias\n",
        "weight = 0.7\n",
        "bias = 0.3\n",
        "#  create range values\n",
        "\n",
        "start = 0\n",
        "end = 1\n",
        "step = 0.02\n",
        "#  create X and Y (features and labels)\n",
        "X = torch.arange(start,end,step).unsqueeze(dim=1) # without unsqueeze erros will pop out\n",
        "y = weight * X + bias\n",
        "\n",
        "X[:10], y[:10]"
      ],
      "metadata": {
        "id": "VH1AdeFzoUUl"
      },
      "execution_count": null,
      "outputs": []
    },
    {
      "cell_type": "code",
      "source": [
        "#  Split data\n",
        "train_split = int(0.8 * len(X))\n",
        "X_train, y_train = X[:train_split], y[:train_split]\n",
        "X_test, y_test = X[train_split:], y[train_split:]\n",
        "\n",
        "len(X_train), len(y_train), len(X_test), len(y_test)"
      ],
      "metadata": {
        "colab": {
          "base_uri": "https://localhost:8080/"
        },
        "id": "s5zfzYSpsFoK",
        "outputId": "93e64260-d59f-42aa-9d16-1cf1e5a358b2"
      },
      "execution_count": 27,
      "outputs": [
        {
          "output_type": "execute_result",
          "data": {
            "text/plain": [
              "(40, 40, 10, 10)"
            ]
          },
          "metadata": {},
          "execution_count": 27
        }
      ]
    },
    {
      "cell_type": "code",
      "source": [
        "plot_predictions(X_train,y_train,X_test,y_test)"
      ],
      "metadata": {
        "id": "ITRFH5nfs0W0"
      },
      "execution_count": null,
      "outputs": []
    },
    {
      "cell_type": "markdown",
      "source": [
        "### 6.2 Building a pytorch Linear model"
      ],
      "metadata": {
        "id": "JhuYJDHhtlme"
      }
    },
    {
      "cell_type": "code",
      "source": [
        "#   create a linera model by subclassing nn.Module\n",
        "\n",
        "class LinearRegressionV2(nn.Module):\n",
        "  def __init__(self):\n",
        "    super().__init__()\n",
        "    #  Use nn.Linear() for creating model params / also called : linear transorm,probing layer, fully connected layer, dense layer\n",
        "    self.linear_layer = nn.Linear(in_features = 1,\n",
        "                                  out_features = 1)\n",
        "  def forward(self, x: torch.Tensor) -> torch.Tensor:\n",
        "      return self.linear_layer(x)\n",
        "\n",
        "#  set the manual seed\n",
        "torch.manual_seed(42)\n",
        "model_1 = LinearRegressionV2()\n",
        "model_1, model_1.state_dict()"
      ],
      "metadata": {
        "colab": {
          "base_uri": "https://localhost:8080/"
        },
        "id": "dDWI5AIitP52",
        "outputId": "5160dcbe-882b-4765-f724-323eba465efc"
      },
      "execution_count": 29,
      "outputs": [
        {
          "output_type": "execute_result",
          "data": {
            "text/plain": [
              "(LinearRegressionV2(\n",
              "   (linear_layer): Linear(in_features=1, out_features=1, bias=True)\n",
              " ),\n",
              " OrderedDict([('linear_layer.weight', tensor([[0.7645]])),\n",
              "              ('linear_layer.bias', tensor([0.8300]))]))"
            ]
          },
          "metadata": {},
          "execution_count": 29
        }
      ]
    },
    {
      "cell_type": "code",
      "source": [
        "#  check the model current device\n",
        "next(model_1.parameters()).device\n",
        "#  or use this below\n",
        "# list(model_1.parameters())[0].device"
      ],
      "metadata": {
        "colab": {
          "base_uri": "https://localhost:8080/"
        },
        "id": "2pcml1tr5BPc",
        "outputId": "47adcb03-dd84-433d-b192-028781ea10ac"
      },
      "execution_count": 30,
      "outputs": [
        {
          "output_type": "execute_result",
          "data": {
            "text/plain": [
              "device(type='cpu')"
            ]
          },
          "metadata": {},
          "execution_count": 30
        }
      ]
    },
    {
      "cell_type": "code",
      "source": [
        "#  set the model to use the target device\n",
        "model_1.to(device)"
      ],
      "metadata": {
        "id": "-GNy2raa3wsA"
      },
      "execution_count": null,
      "outputs": []
    },
    {
      "cell_type": "markdown",
      "source": [
        "### 6.3 training\n",
        "\n",
        "for training we need :\n",
        "1. loss function\n",
        "2. optimizer\n",
        "3. training loop\n",
        "4. testing loop\n",
        "\n"
      ],
      "metadata": {
        "id": "_Yn0iyCm_ima"
      }
    },
    {
      "cell_type": "code",
      "source": [
        "#  seeting up a loss function\n",
        "loss_fn = nn.L1Loss() # same as MAE\n",
        "\n",
        "#  set up  optimizer\n",
        "optimizer = torch.optim.SGD(params = model_1.parameters(), lr=0.01,)"
      ],
      "metadata": {
        "id": "TIXiVbRD_nMq"
      },
      "execution_count": 32,
      "outputs": []
    },
    {
      "cell_type": "code",
      "source": [
        "#  Lets write a training loop\n",
        "torch.manual_seed(42)\n",
        "\n",
        "epochs = 200\n",
        "\n",
        "#  put data on the target device\n",
        "X_train = X_train.to(device)\n",
        "y_train = y_train.to(device)\n",
        "X_test = X_test.to(device)\n",
        "y_test = y_test.to(device)\n",
        "\n",
        "for epoch in range(epochs):\n",
        "  model_1.train()\n",
        "\n",
        "  #  1. forward pass\n",
        "  y_pred = model_1(X_train)\n",
        "  # 2. calculate the loss\n",
        "  loss = loss_fn(y_pred,y_train)\n",
        "  # 3. optimizer zero grad\n",
        "  optimizer.zero_grad()\n",
        "  # 4. perform backpropagation\n",
        "  loss.backward()\n",
        "  # 5. optimizer  step\n",
        "  optimizer.step()\n",
        "\n",
        "  ### Testing\n",
        "  model_1.eval()\n",
        "\n",
        "  with torch.inference_mode():\n",
        "    test_pred = model_1(X_test)\n",
        "\n",
        "  test_loss = loss_fn(test_pred, y_test)\n",
        "\n",
        "  #  print out whats happening\n",
        "\n",
        "  if epoch % 10 == 0:\n",
        "    print(f\"Epoch:{epoch} | Loss:{loss} | test loss:{test_loss}\")"
      ],
      "metadata": {
        "id": "jll-0W57ARKn"
      },
      "execution_count": null,
      "outputs": []
    },
    {
      "cell_type": "code",
      "source": [
        "model_1.state_dict()"
      ],
      "metadata": {
        "colab": {
          "base_uri": "https://localhost:8080/"
        },
        "id": "FaAfPr61CDVM",
        "outputId": "1c22baca-1986-4fdc-aafa-505622adfa64"
      },
      "execution_count": 34,
      "outputs": [
        {
          "output_type": "execute_result",
          "data": {
            "text/plain": [
              "OrderedDict([('linear_layer.weight', tensor([[0.6968]], device='cuda:0')),\n",
              "             ('linear_layer.bias', tensor([0.3025], device='cuda:0'))])"
            ]
          },
          "metadata": {},
          "execution_count": 34
        }
      ]
    },
    {
      "cell_type": "markdown",
      "source": [
        "### 6.4 Making and evaluation **predictions**"
      ],
      "metadata": {
        "id": "LAerln_GEbRk"
      }
    },
    {
      "cell_type": "code",
      "source": [
        "#  turn model into evaluation mode\n",
        "\n",
        "model_1.eval()\n",
        "\n",
        "#  make predictions on the test data\n",
        "with torch.inference_mode():\n",
        "  y_preds = model_1(X_test)\n",
        "\n",
        "y_preds"
      ],
      "metadata": {
        "id": "tJmwCNuFDtoB"
      },
      "execution_count": null,
      "outputs": []
    },
    {
      "cell_type": "code",
      "source": [
        "print(type(y_preds)) # check the type of tensor\n",
        "y_pred_cpu = y_preds.cpu() # send the tensor to the cpu\n",
        "print(y_pred_cpu.device)\n",
        "y_pred_numpy = y_pred_cpu.numpy() # change the tensor type to numpy in order to be plotted cz matplot lib supppprts cpu based tensors which are also numpy arrays\n",
        "print(type(y_pred_numpy))\n"
      ],
      "metadata": {
        "colab": {
          "base_uri": "https://localhost:8080/"
        },
        "id": "zUWCwCdCE4t-",
        "outputId": "ec804d1b-b403-4b2a-8754-749e7ef2a920"
      },
      "execution_count": 65,
      "outputs": [
        {
          "output_type": "stream",
          "name": "stdout",
          "text": [
            "<class 'torch.Tensor'>\n",
            "cpu\n",
            "<class 'numpy.ndarray'>\n"
          ]
        }
      ]
    },
    {
      "cell_type": "code",
      "source": [
        "#  check the model predictions visually\n",
        "plot_predictions(predictions=y_pred_numpy)"
      ],
      "metadata": {
        "colab": {
          "base_uri": "https://localhost:8080/",
          "height": 616
        },
        "id": "GDK6RUkyFLWr",
        "outputId": "26476ee4-17a9-4c31-ecee-f0b9a06e29da"
      },
      "execution_count": 59,
      "outputs": [
        {
          "output_type": "stream",
          "name": "stdout",
          "text": [
            "Type of predictions: <class 'numpy.ndarray'>\n"
          ]
        },
        {
          "output_type": "display_data",
          "data": {
            "text/plain": [
              "<Figure size 1000x700 with 1 Axes>"
            ],
            "image/png": "[encoded data removed]"
          },
          "metadata": {}
        }
      ]
    },
    {
      "cell_type": "markdown",
      "source": [
        "### 6.5 Saving and Loading the model"
      ],
      "metadata": {
        "id": "vFI5dAsvRClh"
      }
    },
    {
      "cell_type": "code",
      "source": [
        "from pathlib import Path\n",
        "\n",
        "# 1. create a model path\n",
        "\n",
        "MODEL_PATH = Path(\"models\")\n",
        "MODEL_PATH.mkdir(parents = True, exist_ok = True)\n",
        "\n",
        "# 2. create a model save path\n",
        "MODEL_NAME = \"01_ptorch_workflow_model_1.pth\"\n",
        "\n",
        "MODEL_SAVE_PATH = MODEL_PATH / MODEL_NAME\n",
        "\n",
        "# 3. save the model state dict\n",
        "print (f\"daving model to:{MODEL_SAVE_PATH}\")\n",
        "torch.save(obj= model_1.state_dict(),\n",
        "           f= MODEL_SAVE_PATH)"
      ],
      "metadata": {
        "colab": {
          "base_uri": "https://localhost:8080/"
        },
        "id": "43u_BOf9JkC6",
        "outputId": "9606acd4-8cfc-40f2-a7ef-d1ea0549458c"
      },
      "execution_count": 41,
      "outputs": [
        {
          "output_type": "stream",
          "name": "stdout",
          "text": [
            "daving model to:models/01_ptorch_workflow_model_1.pth\n"
          ]
        }
      ]
    },
    {
      "cell_type": "code",
      "source": [
        "#  Load the model\n",
        "\n",
        "#  we create a new instance of linear regression model v2\n",
        "loaded_model_1 = LinearRegressionV2()\n",
        "loaded_model_1.load_state_dict(torch.load(MODEL_SAVE_PATH))\n",
        "\n",
        "#  put the loaded model to the device\n",
        "\n",
        "loaded_model_1.to(device)"
      ],
      "metadata": {
        "colab": {
          "base_uri": "https://localhost:8080/"
        },
        "id": "_5ov70nOSCdT",
        "outputId": "4556cbed-f198-49ff-a388-73c0ce44a45b"
      },
      "execution_count": 61,
      "outputs": [
        {
          "output_type": "execute_result",
          "data": {
            "text/plain": [
              "LinearRegressionV2(\n",
              "  (linear_layer): Linear(in_features=1, out_features=1, bias=True)\n",
              ")"
            ]
          },
          "metadata": {},
          "execution_count": 61
        }
      ]
    },
    {
      "cell_type": "code",
      "source": [
        "next(loaded_model_1.parameters()).device"
      ],
      "metadata": {
        "colab": {
          "base_uri": "https://localhost:8080/"
        },
        "id": "1pQbMJuTTOjC",
        "outputId": "d6cc27d3-ac52-433e-8b9b-9bc8be390812"
      },
      "execution_count": 54,
      "outputs": [
        {
          "output_type": "execute_result",
          "data": {
            "text/plain": [
              "device(type='cuda', index=0)"
            ]
          },
          "metadata": {},
          "execution_count": 54
        }
      ]
    },
    {
      "cell_type": "code",
      "source": [
        "loaded_model_1.state_dict()"
      ],
      "metadata": {
        "colab": {
          "base_uri": "https://localhost:8080/"
        },
        "id": "fc9Pw8VxTUj1",
        "outputId": "c161325b-7f44-4937-c09d-2dbeca044d4b"
      },
      "execution_count": 56,
      "outputs": [
        {
          "output_type": "execute_result",
          "data": {
            "text/plain": [
              "OrderedDict([('linear_layer.weight', tensor([[0.6968]], device='cuda:0')),\n",
              "             ('linear_layer.bias', tensor([0.3025], device='cuda:0'))])"
            ]
          },
          "metadata": {},
          "execution_count": 56
        }
      ]
    },
    {
      "cell_type": "code",
      "source": [
        "#  evaluate the loaded model\n",
        "\n",
        "loaded_model_1.eval()\n",
        "with torch.inference_mode():\n",
        "  loaded_model_1_preds = loaded_model_1(X_test)\n",
        "\n",
        "# loaded_model_1_preds.device , y_preds.device\n",
        "y_preds == loaded_model_1_preds"
      ],
      "metadata": {
        "id": "56syJQp1TdbB"
      },
      "execution_count": null,
      "outputs": []
    },
    {
      "cell_type": "code",
      "source": [],
      "metadata": {
        "id": "LXrZQT-xT2Vp"
      },
      "execution_count": null,
      "outputs": []
    }
  ]
}