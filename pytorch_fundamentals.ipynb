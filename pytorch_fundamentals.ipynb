{
  "nbformat": 4,
  "nbformat_minor": 0,
  "metadata": {
    "colab": {
      "provenance": [],
      "collapsed_sections": [
        "kmvL3GjDNWNF"
      ],
      "authorship_tag": "ABX9TyMi5poS/P6VsFrtDawkVw72",
      "include_colab_link": true
    },
    "kernelspec": {
      "name": "python3",
      "display_name": "Python 3"
    },
    "language_info": {
      "name": "python"
    }
  },
  "cells": [
    {
      "cell_type": "markdown",
      "metadata": {
        "id": "view-in-github",
        "colab_type": "text"
      },
      "source": [
        "<a href=\"https://colab.research.google.com/github/princoo/pytorch-in-ML/blob/main/pytorch_fundamentals.ipynb\" target=\"_parent\"><img src=\"https://colab.research.google.com/assets/colab-badge.svg\" alt=\"Open In Colab\"/></a>"
      ]
    },
    {
      "cell_type": "code",
      "execution_count": 2,
      "metadata": {
        "colab": {
          "base_uri": "https://localhost:8080/"
        },
        "id": "eXHUTiGrFFs6",
        "outputId": "a170c42d-d003-40cf-c2a5-ce60f6d15837"
      },
      "outputs": [
        {
          "output_type": "stream",
          "name": "stdout",
          "text": [
            "2.3.1+cu121\n"
          ]
        }
      ],
      "source": [
        "import torch\n",
        "import pandas as pd\n",
        "import numpy as np\n",
        "print(torch.__version__)"
      ]
    },
    {
      "cell_type": "markdown",
      "source": [
        "# introduction to tensors"
      ],
      "metadata": {
        "id": "A4Ardf4FJc43"
      }
    },
    {
      "cell_type": "markdown",
      "source": [
        "### creating a **tensor**"
      ],
      "metadata": {
        "id": "kmvL3GjDNWNF"
      }
    },
    {
      "cell_type": "code",
      "source": [
        "#  scalars\n",
        "scalar = torch.tensor(7)\n",
        "scalar"
      ],
      "metadata": {
        "colab": {
          "base_uri": "https://localhost:8080/"
        },
        "id": "R4b0Wzg8JnxH",
        "outputId": "3d6a8203-0ce2-43a3-df11-3dd17d0ee10b"
      },
      "execution_count": null,
      "outputs": [
        {
          "output_type": "execute_result",
          "data": {
            "text/plain": [
              "tensor(7)"
            ]
          },
          "metadata": {},
          "execution_count": 4
        }
      ]
    },
    {
      "cell_type": "code",
      "source": [
        "#  a scaler has 0 dimention\n",
        "scalar.ndim"
      ],
      "metadata": {
        "colab": {
          "base_uri": "https://localhost:8080/"
        },
        "id": "iT86M9SKNkfy",
        "outputId": "a59f6722-43a8-45e2-85af-7b41e173f73a"
      },
      "execution_count": null,
      "outputs": [
        {
          "output_type": "execute_result",
          "data": {
            "text/plain": [
              "0"
            ]
          },
          "metadata": {},
          "execution_count": 5
        }
      ]
    },
    {
      "cell_type": "code",
      "source": [
        "#  getting the item in the scalar\n",
        "scalar.item()"
      ],
      "metadata": {
        "colab": {
          "base_uri": "https://localhost:8080/"
        },
        "id": "4iczi08AOo-q",
        "outputId": "b50a9710-a11f-4d55-dec5-9aebc3cfaf2d"
      },
      "execution_count": null,
      "outputs": [
        {
          "output_type": "execute_result",
          "data": {
            "text/plain": [
              "7"
            ]
          },
          "metadata": {},
          "execution_count": 6
        }
      ]
    },
    {
      "cell_type": "code",
      "source": [
        "#  vectors\n",
        "vector = torch.tensor([7,7])\n",
        "vector"
      ],
      "metadata": {
        "colab": {
          "base_uri": "https://localhost:8080/"
        },
        "id": "6uH_2qfbOyt2",
        "outputId": "0c789fb7-29a0-4d62-ae40-6ea9399ae2a8"
      },
      "execution_count": null,
      "outputs": [
        {
          "output_type": "execute_result",
          "data": {
            "text/plain": [
              "tensor([7, 7])"
            ]
          },
          "metadata": {},
          "execution_count": 3
        }
      ]
    },
    {
      "cell_type": "code",
      "source": [
        "#  dimention of vector is not zero (nbr of arrays i think)\n",
        "vector.ndim"
      ],
      "metadata": {
        "colab": {
          "base_uri": "https://localhost:8080/"
        },
        "id": "L5teAAAWO7MF",
        "outputId": "4b5596d2-b1ac-4836-8f5e-7df57ae6921f"
      },
      "execution_count": null,
      "outputs": [
        {
          "output_type": "execute_result",
          "data": {
            "text/plain": [
              "1"
            ]
          },
          "metadata": {},
          "execution_count": 5
        }
      ]
    },
    {
      "cell_type": "code",
      "source": [
        "vector.shape"
      ],
      "metadata": {
        "colab": {
          "base_uri": "https://localhost:8080/"
        },
        "id": "eX8NUtYRPT0H",
        "outputId": "18f89f56-6e9e-4fe5-afc8-7a78111fc7f7"
      },
      "execution_count": null,
      "outputs": [
        {
          "output_type": "execute_result",
          "data": {
            "text/plain": [
              "torch.Size([2])"
            ]
          },
          "metadata": {},
          "execution_count": 6
        }
      ]
    },
    {
      "cell_type": "code",
      "source": [
        "#  MATRIX\n",
        "MATRIX = torch.tensor([[7,8],\n",
        "                       [9,10]])\n",
        "MATRIX"
      ],
      "metadata": {
        "colab": {
          "base_uri": "https://localhost:8080/"
        },
        "id": "jNrpEDRMPhb6",
        "outputId": "9721a988-3bfe-4cf4-999e-55599d4b0f4e"
      },
      "execution_count": null,
      "outputs": [
        {
          "output_type": "execute_result",
          "data": {
            "text/plain": [
              "tensor([[ 7,  8],\n",
              "        [ 9, 10]])"
            ]
          },
          "metadata": {},
          "execution_count": 7
        }
      ]
    },
    {
      "cell_type": "code",
      "source": [
        "MATRIX.ndim"
      ],
      "metadata": {
        "colab": {
          "base_uri": "https://localhost:8080/"
        },
        "id": "fOZJ59QzQEJQ",
        "outputId": "a1f468ff-de7f-464e-afa8-7b5ea0b8e07c"
      },
      "execution_count": null,
      "outputs": [
        {
          "output_type": "execute_result",
          "data": {
            "text/plain": [
              "2"
            ]
          },
          "metadata": {},
          "execution_count": 8
        }
      ]
    },
    {
      "cell_type": "code",
      "source": [
        "MATRIX.shape"
      ],
      "metadata": {
        "colab": {
          "base_uri": "https://localhost:8080/"
        },
        "id": "pedu1Y0_QHDs",
        "outputId": "58bb5c95-fe38-41c2-e6b7-80aa4ba95d8f"
      },
      "execution_count": null,
      "outputs": [
        {
          "output_type": "execute_result",
          "data": {
            "text/plain": [
              "torch.Size([2, 2])"
            ]
          },
          "metadata": {},
          "execution_count": 9
        }
      ]
    },
    {
      "cell_type": "code",
      "source": [
        "MATRIX[1]"
      ],
      "metadata": {
        "colab": {
          "base_uri": "https://localhost:8080/"
        },
        "id": "rKLxClbhQJTO",
        "outputId": "a66437f3-9513-48ea-b092-0e6b620278ce"
      },
      "execution_count": null,
      "outputs": [
        {
          "output_type": "execute_result",
          "data": {
            "text/plain": [
              "tensor([ 9, 10])"
            ]
          },
          "metadata": {},
          "execution_count": 10
        }
      ]
    },
    {
      "cell_type": "code",
      "source": [
        "#  TENSORS\n",
        "# prompt: generate a 2,4,4 tensor data\n",
        "TENSOR = torch.tensor([[[1,2,3,4],\n",
        "                        [5,6,7,8],\n",
        "                        [9,10,11,12],\n",
        "                        [13,14,15,16]],\n",
        "                       [[17,18,19,20],\n",
        "                        [21,22,23,24],\n",
        "                        [25,26,27,28],\n",
        "                        [29,30,31,32]]])\n",
        "TENSOR\n",
        "TENSOR.ndim\n",
        "TENSOR.shape\n"
      ],
      "metadata": {
        "colab": {
          "base_uri": "https://localhost:8080/"
        },
        "id": "v-ZcJfj2QMKM",
        "outputId": "9d4de897-8532-4784-f46c-6496f656bbaf"
      },
      "execution_count": null,
      "outputs": [
        {
          "output_type": "execute_result",
          "data": {
            "text/plain": [
              "torch.Size([2, 4, 4])"
            ]
          },
          "metadata": {},
          "execution_count": 12
        }
      ]
    },
    {
      "cell_type": "code",
      "source": [
        "TENSOR.ndim"
      ],
      "metadata": {
        "colab": {
          "base_uri": "https://localhost:8080/"
        },
        "id": "QURSp56lRo_I",
        "outputId": "9cfbc1c2-fea9-47ea-9f9a-3f9c2d4249aa"
      },
      "execution_count": null,
      "outputs": [
        {
          "output_type": "execute_result",
          "data": {
            "text/plain": [
              "3"
            ]
          },
          "metadata": {},
          "execution_count": 15
        }
      ]
    },
    {
      "cell_type": "code",
      "source": [
        "TENSOR.shape"
      ],
      "metadata": {
        "colab": {
          "base_uri": "https://localhost:8080/"
        },
        "id": "X2Va7mixUCID",
        "outputId": "fbc87ee9-19e4-425c-81f1-5f88875b5d8f"
      },
      "execution_count": null,
      "outputs": [
        {
          "output_type": "execute_result",
          "data": {
            "text/plain": [
              "torch.Size([2, 4, 4])"
            ]
          },
          "metadata": {},
          "execution_count": 16
        }
      ]
    },
    {
      "cell_type": "markdown",
      "source": [
        "### Random tensors"
      ],
      "metadata": {
        "id": "UTJxPW_UR1u5"
      }
    },
    {
      "cell_type": "code",
      "source": [
        "random_tensor = torch.rand(1,3,4)\n",
        "random_tensor"
      ],
      "metadata": {
        "colab": {
          "base_uri": "https://localhost:8080/"
        },
        "id": "ypL-ousfVxQ_",
        "outputId": "93ccad00-28c8-4555-a754-7a702bd02782"
      },
      "execution_count": null,
      "outputs": [
        {
          "output_type": "execute_result",
          "data": {
            "text/plain": [
              "tensor([[[0.1027, 0.7028, 0.4853, 0.3586],\n",
              "         [0.0075, 0.3113, 0.5999, 0.0838],\n",
              "         [0.2112, 0.6088, 0.5566, 0.4436]]])"
            ]
          },
          "metadata": {},
          "execution_count": 20
        }
      ]
    },
    {
      "cell_type": "code",
      "source": [
        "random_tensor.ndim"
      ],
      "metadata": {
        "colab": {
          "base_uri": "https://localhost:8080/"
        },
        "id": "RvFJde-sV4pC",
        "outputId": "733a5741-c7b2-48d5-a5c0-ba2be87b80ab"
      },
      "execution_count": null,
      "outputs": [
        {
          "output_type": "execute_result",
          "data": {
            "text/plain": [
              "3"
            ]
          },
          "metadata": {},
          "execution_count": 21
        }
      ]
    },
    {
      "cell_type": "code",
      "source": [
        "# create a random tensor with similar shape to an image tensor\n",
        "\n",
        "random_image_size_tensor = torch.rand(size=(1,244,244))\n",
        "random_image_size_tensor.shape, random_image_size_tensor.ndim"
      ],
      "metadata": {
        "colab": {
          "base_uri": "https://localhost:8080/"
        },
        "id": "GiqIKa3OWCTc",
        "outputId": "17bfaff9-4d85-4e1f-d0be-b54ac4ab2b70"
      },
      "execution_count": null,
      "outputs": [
        {
          "output_type": "execute_result",
          "data": {
            "text/plain": [
              "(torch.Size([1, 244, 244]), 3)"
            ]
          },
          "metadata": {},
          "execution_count": 22
        }
      ]
    },
    {
      "cell_type": "markdown",
      "source": [
        "### Zeros and ones"
      ],
      "metadata": {
        "id": "j6DFDrb2Ylcu"
      }
    },
    {
      "cell_type": "code",
      "source": [
        "#  a tensor with all zeros\n",
        "zeros = torch.zeros(3,4)\n",
        "zeros, zeros.dtype"
      ],
      "metadata": {
        "colab": {
          "base_uri": "https://localhost:8080/"
        },
        "id": "aPkbE48NW9EP",
        "outputId": "3da7bd96-6af5-4799-b104-46b1069ad994"
      },
      "execution_count": null,
      "outputs": [
        {
          "output_type": "execute_result",
          "data": {
            "text/plain": [
              "(tensor([[0., 0., 0., 0.],\n",
              "         [0., 0., 0., 0.],\n",
              "         [0., 0., 0., 0.]]),\n",
              " torch.float32)"
            ]
          },
          "metadata": {},
          "execution_count": 24
        }
      ]
    },
    {
      "cell_type": "code",
      "source": [
        "#  a tensor with all ones\n",
        "ones = torch.ones(3,4)\n",
        "ones, ones.dtype"
      ],
      "metadata": {
        "colab": {
          "base_uri": "https://localhost:8080/"
        },
        "id": "Fi6SUDWIYs_b",
        "outputId": "e24199d9-c9f1-4293-b2bf-fb7c5ccca254"
      },
      "execution_count": null,
      "outputs": [
        {
          "output_type": "execute_result",
          "data": {
            "text/plain": [
              "(tensor([[1., 1., 1., 1.],\n",
              "         [1., 1., 1., 1.],\n",
              "         [1., 1., 1., 1.]]),\n",
              " torch.float32)"
            ]
          },
          "metadata": {},
          "execution_count": 25
        }
      ]
    },
    {
      "cell_type": "markdown",
      "source": [
        "### Creating a range and tensors like¶\n"
      ],
      "metadata": {
        "id": "PC4Mlrxmax8z"
      }
    },
    {
      "cell_type": "code",
      "source": [
        "#  we use torch.arange()\n",
        "zero_to_ten = torch.arange(start=1, end=11, step=1)\n",
        "zero_to_ten"
      ],
      "metadata": {
        "colab": {
          "base_uri": "https://localhost:8080/"
        },
        "id": "vhezmm8lZQer",
        "outputId": "3b4a56d5-17f1-4671-fcd2-bfb4f341397a"
      },
      "execution_count": null,
      "outputs": [
        {
          "output_type": "execute_result",
          "data": {
            "text/plain": [
              "tensor([ 1,  2,  3,  4,  5,  6,  7,  8,  9, 10])"
            ]
          },
          "metadata": {},
          "execution_count": 27
        }
      ]
    },
    {
      "cell_type": "code",
      "source": [
        "#  creating tensor like\n",
        "\n",
        "ten_zeros = torch.zeros_like(input=zero_to_ten)\n",
        "ten_zeros"
      ],
      "metadata": {
        "colab": {
          "base_uri": "https://localhost:8080/"
        },
        "id": "02-sMlqEa_pk",
        "outputId": "d786e00c-3be6-4a6b-c948-5f6424e61712"
      },
      "execution_count": null,
      "outputs": [
        {
          "output_type": "execute_result",
          "data": {
            "text/plain": [
              "tensor([0, 0, 0, 0, 0, 0, 0, 0, 0, 0])"
            ]
          },
          "metadata": {},
          "execution_count": 30
        }
      ]
    },
    {
      "cell_type": "markdown",
      "source": [
        "### Tenso datatypes"
      ],
      "metadata": {
        "id": "_9RU5OCfd8Ht"
      }
    },
    {
      "cell_type": "code",
      "source": [
        "# float 32 tensor\n",
        "\n",
        "float_32_tensor = torch.tensor([3.0,6.0,9.0],\n",
        "                               dtype=None, # what datatype is the tensor\n",
        "                               device=None, # what device is your tensor on\n",
        "                               requires_grad=False # whether on not to track gradient with this tensor operation\n",
        "                               )\n",
        "float_32_tensor.shape, float_32_tensor.dtype"
      ],
      "metadata": {
        "colab": {
          "base_uri": "https://localhost:8080/"
        },
        "id": "aqvvRjC-cowu",
        "outputId": "0d3e86c9-33e9-414f-b311-43cdbea137cb"
      },
      "execution_count": null,
      "outputs": [
        {
          "output_type": "execute_result",
          "data": {
            "text/plain": [
              "tensor([3., 6., 9.])"
            ]
          },
          "metadata": {},
          "execution_count": 33
        }
      ]
    },
    {
      "cell_type": "code",
      "source": [
        "#  how to change the datatype of a tensor\n",
        "float_16_tensor = float_32_tensor.type(torch.float16)\n",
        "float_16_tensor"
      ],
      "metadata": {
        "colab": {
          "base_uri": "https://localhost:8080/"
        },
        "id": "lMVxD7fWeUO4",
        "outputId": "cb5246eb-72d0-4643-c18a-ec32360ac253"
      },
      "execution_count": null,
      "outputs": [
        {
          "output_type": "execute_result",
          "data": {
            "text/plain": [
              "tensor([3., 6., 9.], dtype=torch.float16)"
            ]
          },
          "metadata": {},
          "execution_count": 34
        }
      ]
    },
    {
      "cell_type": "code",
      "source": [
        "float_16_tensor * float_32_tensor"
      ],
      "metadata": {
        "colab": {
          "base_uri": "https://localhost:8080/"
        },
        "id": "q4yPdm0hiwxc",
        "outputId": "ea20c358-d206-4f62-f254-6bf23c8af13e"
      },
      "execution_count": null,
      "outputs": [
        {
          "output_type": "execute_result",
          "data": {
            "text/plain": [
              "tensor([ 9., 36., 81.])"
            ]
          },
          "metadata": {},
          "execution_count": 36
        }
      ]
    },
    {
      "cell_type": "markdown",
      "source": [
        "###Getting information from tensors¶\n"
      ],
      "metadata": {
        "id": "u6I-Rso0yrun"
      }
    },
    {
      "cell_type": "code",
      "source": [
        "# create a random tensor\n",
        "\n",
        "random_tensor= torch.rand(3,4)\n",
        "random_tensor"
      ],
      "metadata": {
        "colab": {
          "base_uri": "https://localhost:8080/"
        },
        "id": "lcZdI86AjDqb",
        "outputId": "ccddae99-44a6-47cb-ab4e-b3133a83896a"
      },
      "execution_count": null,
      "outputs": [
        {
          "output_type": "execute_result",
          "data": {
            "text/plain": [
              "tensor([[0.7639, 0.5762, 0.9784, 0.0665],\n",
              "        [0.3537, 0.1211, 0.7010, 0.4052],\n",
              "        [0.8075, 0.3285, 0.6380, 0.6402]])"
            ]
          },
          "metadata": {},
          "execution_count": 37
        }
      ]
    },
    {
      "cell_type": "code",
      "source": [
        "#  getting the tensor information\n",
        "print(random_tensor)\n",
        "print(f\"the type of the tensor is: {random_tensor.dtype}\")\n",
        "print(f\"the device of the tensor is: {random_tensor.device}\")"
      ],
      "metadata": {
        "id": "RQle8vnlz4pj"
      },
      "execution_count": null,
      "outputs": []
    },
    {
      "cell_type": "code",
      "source": [
        "#  lets play around and change the tensor datatype\n",
        "\n",
        "rando_tensor_modified=random_tensor.type(torch.half) # half is same as float16\n",
        "print(f\"now the type of the tensor is: {rando_tensor_modified.dtype}\")"
      ],
      "metadata": {
        "colab": {
          "base_uri": "https://localhost:8080/"
        },
        "id": "yg2tXfaZ0Kpv",
        "outputId": "8bfe8258-b624-47ee-9c72-57c02223ac01"
      },
      "execution_count": null,
      "outputs": [
        {
          "output_type": "stream",
          "name": "stdout",
          "text": [
            "now the type of the tensor is: torch.float16\n"
          ]
        }
      ]
    },
    {
      "cell_type": "markdown",
      "source": [
        "### Manipulating tensors (tensor operations)¶\n"
      ],
      "metadata": {
        "id": "sU7iOpN42EC6"
      }
    },
    {
      "cell_type": "code",
      "source": [
        "# create a tensor\n",
        "tensor = torch.tensor([1,2,3])\n",
        "\n",
        "#  NOTE THAT THE TENSOR VALUE DOESNT CHANGE UNLESS ITS REASSIGNED\n",
        "#  LIKE tensor = tensor +10\n",
        "#  addition\n",
        "tensor + 10"
      ],
      "metadata": {
        "colab": {
          "base_uri": "https://localhost:8080/"
        },
        "id": "lFX4U_GG2FmV",
        "outputId": "8f21e52c-7f9a-413a-be78-c154bf4bed8e"
      },
      "execution_count": null,
      "outputs": [
        {
          "output_type": "execute_result",
          "data": {
            "text/plain": [
              "tensor([11, 12, 13])"
            ]
          },
          "metadata": {},
          "execution_count": 50
        }
      ]
    },
    {
      "cell_type": "code",
      "source": [
        "#  multiplication\n",
        "tensor * 10\n"
      ],
      "metadata": {
        "colab": {
          "base_uri": "https://localhost:8080/"
        },
        "id": "gV2OsZY39G-a",
        "outputId": "25d4bba1-0d4e-40ba-afcc-c0eb11c94692"
      },
      "execution_count": null,
      "outputs": [
        {
          "output_type": "execute_result",
          "data": {
            "text/plain": [
              "tensor([10, 20, 30])"
            ]
          },
          "metadata": {},
          "execution_count": 51
        }
      ]
    },
    {
      "cell_type": "code",
      "source": [
        "tensor"
      ],
      "metadata": {
        "colab": {
          "base_uri": "https://localhost:8080/"
        },
        "id": "YnMOaSnp9_fY",
        "outputId": "a39c87da-a2cf-41f8-ce96-bef9aee5912d"
      },
      "execution_count": null,
      "outputs": [
        {
          "output_type": "execute_result",
          "data": {
            "text/plain": [
              "tensor([1, 2, 3])"
            ]
          },
          "metadata": {},
          "execution_count": 52
        }
      ]
    },
    {
      "cell_type": "code",
      "source": [
        "#  subtract 10\n",
        "tensor - 10"
      ],
      "metadata": {
        "colab": {
          "base_uri": "https://localhost:8080/"
        },
        "id": "LpitVBeJ9YDQ",
        "outputId": "d920c22b-ad71-4433-d597-e45580ef42d2"
      },
      "execution_count": null,
      "outputs": [
        {
          "output_type": "execute_result",
          "data": {
            "text/plain": [
              "tensor([-9, -8, -7])"
            ]
          },
          "metadata": {},
          "execution_count": 53
        }
      ]
    },
    {
      "cell_type": "code",
      "source": [
        "# try out pytorch built in functions\n",
        "\n",
        "torch.mul(tensor, 10) # will multipy each ele by 10"
      ],
      "metadata": {
        "colab": {
          "base_uri": "https://localhost:8080/"
        },
        "id": "g8wOeXr49wDO",
        "outputId": "35925395-a164-44d7-da9e-0360a51e32c0"
      },
      "execution_count": null,
      "outputs": [
        {
          "output_type": "execute_result",
          "data": {
            "text/plain": [
              "tensor([10, 20, 30])"
            ]
          },
          "metadata": {},
          "execution_count": 54
        }
      ]
    },
    {
      "cell_type": "markdown",
      "source": [
        "### matrix multiplication\n",
        "Two main ways to perfom this\n",
        "1. Element-wise multiplication\n",
        "2. Matrix multiplication (dot product)\n",
        "\n",
        "there are 2 main rules that perfoming matrix multiplication needs to satisfy:\n",
        "1. the inner dimentions must match:\n",
        "* `(3,2) @(3,2) Wont work`\n",
        "* `(2,3) @(2,3) will work`\n",
        "* `(3,2) @(2,3) will work`\n",
        "2. the resulting matrix has the shape of the outer matrix\n",
        "* `(2,3) @(3,2) Wont work` -> `(2,2)`\n",
        "* `(3,2) @(2,3) Wont work` -> `(3,3)`\n",
        "  "
      ],
      "metadata": {
        "id": "YTl5KzroAVrY"
      }
    },
    {
      "cell_type": "code",
      "source": [
        "#  eg matrix multiplication\n",
        "torch.matmul(torch.rand(2,3), torch.rand(3,2))"
      ],
      "metadata": {
        "colab": {
          "base_uri": "https://localhost:8080/"
        },
        "id": "8EbuZAeuUEBX",
        "outputId": "5ba02ce0-997b-4261-c9a8-eaa21a7d9c76"
      },
      "execution_count": null,
      "outputs": [
        {
          "output_type": "execute_result",
          "data": {
            "text/plain": [
              "tensor([[1.0990, 0.8247],\n",
              "        [0.9249, 0.1646]])"
            ]
          },
          "metadata": {},
          "execution_count": 60
        }
      ]
    },
    {
      "cell_type": "code",
      "source": [
        "#  Element-wise multiplication\n",
        "print (tensor, \"*\", tensor)\n",
        "print(f\"Equals: {tensor * tensor}\")"
      ],
      "metadata": {
        "colab": {
          "base_uri": "https://localhost:8080/"
        },
        "id": "vbNEaGzL-R5v",
        "outputId": "c534888c-bed8-4ae9-a085-aaf5a493042f"
      },
      "execution_count": null,
      "outputs": [
        {
          "output_type": "stream",
          "name": "stdout",
          "text": [
            "tensor([1, 2, 3]) * tensor([1, 2, 3])\n",
            "Equals: tensor([1, 4, 9])\n"
          ]
        }
      ]
    },
    {
      "cell_type": "code",
      "source": [
        "#  Matrix multiplication\n",
        "torch.matmul(tensor, tensor)\n"
      ],
      "metadata": {
        "colab": {
          "base_uri": "https://localhost:8080/"
        },
        "id": "50fwgvk9Aswg",
        "outputId": "00e76f19-889a-4279-8c90-e3c9bd942abd"
      },
      "execution_count": null,
      "outputs": [
        {
          "output_type": "execute_result",
          "data": {
            "text/plain": [
              "tensor(14)"
            ]
          },
          "metadata": {},
          "execution_count": 56
        }
      ]
    },
    {
      "cell_type": "markdown",
      "source": [
        "### One of the most common errors in deep learning: shape error\n",
        "\n",
        "To fix our tensor issues. we can manupulate the shape of one of our tensors using **transpose**"
      ],
      "metadata": {
        "id": "PJJAe6D7U0xN"
      }
    },
    {
      "cell_type": "code",
      "source": [
        "tensor_B = torch.rand(3,2)\n",
        "tensor_A = torch.rand(3,2)"
      ],
      "metadata": {
        "id": "4t0gpYUdBHUe"
      },
      "execution_count": null,
      "outputs": []
    },
    {
      "cell_type": "code",
      "source": [
        "torch.matmul(tensor_A, tensor_B) # this will result in a shape error"
      ],
      "metadata": {
        "id": "B68Znp5yXUHy"
      },
      "execution_count": null,
      "outputs": []
    },
    {
      "cell_type": "code",
      "source": [
        "#  now lets try to use transpose on one of our tensors\n",
        "\n",
        "tensor_B.T , tensor_B.T.shape\n",
        "#  you will see that after the transpose the shape is changed\n"
      ],
      "metadata": {
        "colab": {
          "base_uri": "https://localhost:8080/"
        },
        "id": "gO8w70qwXgeu",
        "outputId": "034e66e7-9196-482f-d985-9d4b92593e0b"
      },
      "execution_count": null,
      "outputs": [
        {
          "output_type": "execute_result",
          "data": {
            "text/plain": [
              "(tensor([[0.3205, 0.7407, 0.5365],\n",
              "         [0.1738, 0.4327, 0.1312]]),\n",
              " torch.Size([2, 3]))"
            ]
          },
          "metadata": {},
          "execution_count": 67
        }
      ]
    },
    {
      "cell_type": "code",
      "source": [
        "torch.mm(tensor_A, tensor_B.T)"
      ],
      "metadata": {
        "colab": {
          "base_uri": "https://localhost:8080/"
        },
        "id": "0P301Xq_X24d",
        "outputId": "0037fe9f-5d41-4c1f-a970-3898c23f3ecf"
      },
      "execution_count": null,
      "outputs": [
        {
          "output_type": "execute_result",
          "data": {
            "text/plain": [
              "tensor([[0.4250, 1.0058, 0.5899],\n",
              "        [0.3160, 0.7520, 0.4168],\n",
              "        [0.1563, 0.3842, 0.1431]])"
            ]
          },
          "metadata": {},
          "execution_count": 72
        }
      ]
    },
    {
      "cell_type": "markdown",
      "source": [
        "## Finding the min, max, mean, sum, etc (aggregation)"
      ],
      "metadata": {
        "id": "Pz2lugnPaivr"
      }
    },
    {
      "cell_type": "code",
      "source": [
        "#  create a tensor\n",
        "\n",
        "x = torch.arange(0,100,10)\n",
        "x"
      ],
      "metadata": {
        "id": "9Mu2shwNY5kI",
        "colab": {
          "base_uri": "https://localhost:8080/"
        },
        "outputId": "2cdf75f8-6fea-457d-947e-93e7addc3e3c"
      },
      "execution_count": 4,
      "outputs": [
        {
          "output_type": "execute_result",
          "data": {
            "text/plain": [
              "tensor([ 0, 10, 20, 30, 40, 50, 60, 70, 80, 90])"
            ]
          },
          "metadata": {},
          "execution_count": 4
        }
      ]
    },
    {
      "cell_type": "code",
      "source": [
        "# max and min\n",
        "x.max(), x.min()\n",
        "\n",
        "#  or you can use torch.max(x) , torch.min(x)"
      ],
      "metadata": {
        "colab": {
          "base_uri": "https://localhost:8080/"
        },
        "id": "1U1UmH8K6zGc",
        "outputId": "cfec47ea-f440-4cf4-9598-c04e783129af"
      },
      "execution_count": 7,
      "outputs": [
        {
          "output_type": "execute_result",
          "data": {
            "text/plain": [
              "(tensor(90), tensor(0))"
            ]
          },
          "metadata": {},
          "execution_count": 7
        }
      ]
    },
    {
      "cell_type": "code",
      "source": [
        "#  mean\n",
        "# - Note: the torch.mean() function requires a tensor of float32 to work\n",
        "torch.mean(x.type(torch.float32))\n",
        "\n",
        "#  or you can also use x.type(torch.float32).mean()"
      ],
      "metadata": {
        "colab": {
          "base_uri": "https://localhost:8080/"
        },
        "id": "qjIjDwBm8tMH",
        "outputId": "215ddc91-77a9-44a5-d251-01fa0e1a85a1"
      },
      "execution_count": 11,
      "outputs": [
        {
          "output_type": "execute_result",
          "data": {
            "text/plain": [
              "tensor(45.)"
            ]
          },
          "metadata": {},
          "execution_count": 11
        }
      ]
    },
    {
      "cell_type": "markdown",
      "source": [
        "## finding the position (index) of min and max"
      ],
      "metadata": {
        "id": "cIdZHQEo_b4L"
      }
    },
    {
      "cell_type": "code",
      "source": [
        "#  this will get the index of the minimum element in the tensor\n",
        "x.argmin()"
      ],
      "metadata": {
        "colab": {
          "base_uri": "https://localhost:8080/"
        },
        "id": "1vskCzve9zuJ",
        "outputId": "e1d3e8de-d842-4028-9cc2-c79914f42f4d"
      },
      "execution_count": 12,
      "outputs": [
        {
          "output_type": "execute_result",
          "data": {
            "text/plain": [
              "tensor(0)"
            ]
          },
          "metadata": {},
          "execution_count": 12
        }
      ]
    },
    {
      "cell_type": "code",
      "source": [
        "#  this will get the index of the max element in the tensor\n",
        "x.argmax()"
      ],
      "metadata": {
        "colab": {
          "base_uri": "https://localhost:8080/"
        },
        "id": "ie-a03Mq_i2e",
        "outputId": "c7dcff98-61e8-4235-e6f8-08b00c32224a"
      },
      "execution_count": 13,
      "outputs": [
        {
          "output_type": "execute_result",
          "data": {
            "text/plain": [
              "tensor(9)"
            ]
          },
          "metadata": {},
          "execution_count": 13
        }
      ]
    },
    {
      "cell_type": "markdown",
      "source": [
        "## Reshaping, stacking, squeezing and unsqueezing tensors\n"
      ],
      "metadata": {
        "id": "MwSvKGOCBvN6"
      }
    },
    {
      "cell_type": "code",
      "source": [
        "#   create a torch\n",
        "x = torch.arange(1,10)\n",
        "x, x.shape"
      ],
      "metadata": {
        "colab": {
          "base_uri": "https://localhost:8080/"
        },
        "id": "7vEfNsFU_rgk",
        "outputId": "563c5ade-861c-49ad-f343-ee766b4e4e5a"
      },
      "execution_count": 19,
      "outputs": [
        {
          "output_type": "execute_result",
          "data": {
            "text/plain": [
              "(tensor([1, 2, 3, 4, 5, 6, 7, 8, 9]), torch.Size([9]))"
            ]
          },
          "metadata": {},
          "execution_count": 19
        }
      ]
    },
    {
      "cell_type": "code",
      "source": [
        "#  reshaping : lets maybe add an extra dimention\n",
        "x_reshaped = x.reshape(1,9)\n",
        "#  or also x_reshaped = x.reshape(9,1)\n",
        "\n",
        "x_reshaped, x_reshaped.shape"
      ],
      "metadata": {
        "colab": {
          "base_uri": "https://localhost:8080/"
        },
        "id": "b0Np181JEpZt",
        "outputId": "ab3415d7-3d32-496c-e8f4-d33f7127db13"
      },
      "execution_count": 22,
      "outputs": [
        {
          "output_type": "execute_result",
          "data": {
            "text/plain": [
              "(tensor([[1, 2, 3, 4, 5, 6, 7, 8, 9]]), torch.Size([1, 9]))"
            ]
          },
          "metadata": {},
          "execution_count": 22
        }
      ]
    },
    {
      "cell_type": "code",
      "source": [
        "#  change the view\n",
        "z = x.view(1,9)\n",
        "z, z.shape\n"
      ],
      "metadata": {
        "colab": {
          "base_uri": "https://localhost:8080/"
        },
        "id": "NcSeZqGHGHUa",
        "outputId": "0425d80f-d2ed-4414-ccd9-a56a0031ae3d"
      },
      "execution_count": 23,
      "outputs": [
        {
          "output_type": "execute_result",
          "data": {
            "text/plain": [
              "(tensor([[1, 2, 3, 4, 5, 6, 7, 8, 9]]), torch.Size([1, 9]))"
            ]
          },
          "metadata": {},
          "execution_count": 23
        }
      ]
    },
    {
      "cell_type": "code",
      "source": [
        "# changing z will change x cz z shares the same memory as the original input\n",
        "\n",
        "z[:,1] = 5\n",
        "z,x"
      ],
      "metadata": {
        "colab": {
          "base_uri": "https://localhost:8080/"
        },
        "id": "Z86UFCnVIEKw",
        "outputId": "d5eab786-db9e-4509-de01-5faef666300c"
      },
      "execution_count": 26,
      "outputs": [
        {
          "output_type": "execute_result",
          "data": {
            "text/plain": [
              "(tensor([[1, 5, 3, 4, 5, 6, 7, 8, 9]]), tensor([1, 5, 3, 4, 5, 6, 7, 8, 9]))"
            ]
          },
          "metadata": {},
          "execution_count": 26
        }
      ]
    },
    {
      "cell_type": "code",
      "source": [
        "#  stack tensors on top of each other\n",
        "x_stacked = torch.stack((x,x), dim=0)\n",
        "x_stacked\n",
        "# dimension to insert. Has to be between 0 and the number of dimensions of concatenated tensors (inclusive). Default: 0"
      ],
      "metadata": {
        "colab": {
          "base_uri": "https://localhost:8080/"
        },
        "id": "boytvcAXITyw",
        "outputId": "c39ed117-77c1-4d4e-85b5-6cc8da3dd74a"
      },
      "execution_count": 33,
      "outputs": [
        {
          "output_type": "execute_result",
          "data": {
            "text/plain": [
              "tensor([[1, 5, 3, 4, 5, 6, 7, 8, 9],\n",
              "        [1, 5, 3, 4, 5, 6, 7, 8, 9]])"
            ]
          },
          "metadata": {},
          "execution_count": 33
        }
      ]
    },
    {
      "cell_type": "code",
      "source": [
        "#  squezzing\n",
        "\n",
        "x_squezz = torch.rand(2,1,2,2,1)\n",
        "x_squezz"
      ],
      "metadata": {
        "collapsed": true,
        "id": "nJxcxmJiL5zm"
      },
      "execution_count": null,
      "outputs": []
    },
    {
      "cell_type": "code",
      "source": [
        "# now lets squezz at a specific index\n",
        "# Returns a tensor with all specified dimensions of input of size 1 removed.\n",
        "y = torch.squeeze(x_squezz,3)\n",
        "y.shape\n",
        "#  you can also use x_squezz.squezze()"
      ],
      "metadata": {
        "colab": {
          "base_uri": "https://localhost:8080/"
        },
        "id": "k-PBheWTOKAx",
        "outputId": "2008a108-e717-4208-a047-893f75eb549c"
      },
      "execution_count": 39,
      "outputs": [
        {
          "output_type": "execute_result",
          "data": {
            "text/plain": [
              "torch.Size([2, 1, 2, 2, 1])"
            ]
          },
          "metadata": {},
          "execution_count": 39
        }
      ]
    },
    {
      "cell_type": "code",
      "source": [
        "# now lets unsquezz at a specific index\n",
        "# Returns a new tensor with a dimension of size one inserted at the specified position.\n",
        "x_unsquezz = torch.tensor([1,2,3,4])\n",
        "torch.unsqueeze(x_unsquezz, dim=1)\n",
        "#  you can also use x_unsquezz.unsquezze(dim=1)"
      ],
      "metadata": {
        "id": "rUdCdG1JOSce"
      },
      "execution_count": null,
      "outputs": []
    },
    {
      "cell_type": "code",
      "source": [
        "# torch.permute - rearranges the dimentions of the target in a specified order\n",
        "#  Permute returns a view\n",
        "\n",
        "x_original = torch.rand(size=(244,244,3)) # [heigth, width, color_channel\n",
        "\n",
        "# lets permute the original tensor to rearange the axis order\n",
        "\n",
        "x_permuted = x_original.permute(2,0,1) # shifts axis 0->1, 1->2, 2->0\n",
        "x_permuted.shape\n"
      ],
      "metadata": {
        "colab": {
          "base_uri": "https://localhost:8080/"
        },
        "id": "Wvp1Ca80Pbs4",
        "outputId": "58b0e7ca-d8a9-4a54-f09b-1446184988d8"
      },
      "execution_count": 55,
      "outputs": [
        {
          "output_type": "execute_result",
          "data": {
            "text/plain": [
              "torch.Size([3, 244, 244])"
            ]
          },
          "metadata": {},
          "execution_count": 55
        }
      ]
    },
    {
      "cell_type": "markdown",
      "source": [
        "## Indexing (selecting data from tensors)\n",
        "similar with NumPy"
      ],
      "metadata": {
        "id": "rwfurzmPt_kM"
      }
    },
    {
      "cell_type": "code",
      "source": [
        "#  create a tensor\n",
        "x =  torch.arange(1,10).reshape(1,3,3)\n",
        "x, x.shape"
      ],
      "metadata": {
        "colab": {
          "base_uri": "https://localhost:8080/"
        },
        "id": "UxWdJzc7rkLc",
        "outputId": "c3ee438d-5a49-4799-dd65-57ae092f3fcd"
      },
      "execution_count": 56,
      "outputs": [
        {
          "output_type": "execute_result",
          "data": {
            "text/plain": [
              "(tensor([[[1, 2, 3],\n",
              "          [4, 5, 6],\n",
              "          [7, 8, 9]]]),\n",
              " torch.Size([1, 3, 3]))"
            ]
          },
          "metadata": {},
          "execution_count": 56
        }
      ]
    },
    {
      "cell_type": "code",
      "source": [
        "# lets index on our first tensor\n",
        "x[0]"
      ],
      "metadata": {
        "colab": {
          "base_uri": "https://localhost:8080/"
        },
        "id": "THInOFN2u8kB",
        "outputId": "5bd99268-0d28-4b64-8b5c-5d9cac3e98da"
      },
      "execution_count": 57,
      "outputs": [
        {
          "output_type": "execute_result",
          "data": {
            "text/plain": [
              "tensor([[1, 2, 3],\n",
              "        [4, 5, 6],\n",
              "        [7, 8, 9]])"
            ]
          },
          "metadata": {},
          "execution_count": 57
        }
      ]
    },
    {
      "cell_type": "code",
      "source": [
        "# lets index on middle  bracket (dim=1)\n",
        "x[0][0]\n",
        "#  you can also use x[0,0]"
      ],
      "metadata": {
        "colab": {
          "base_uri": "https://localhost:8080/"
        },
        "id": "sjCe136Fyotn",
        "outputId": "1958a294-9925-4f00-e7d1-b2142ae12093"
      },
      "execution_count": 59,
      "outputs": [
        {
          "output_type": "execute_result",
          "data": {
            "text/plain": [
              "tensor([1, 2, 3])"
            ]
          },
          "metadata": {},
          "execution_count": 59
        }
      ]
    },
    {
      "cell_type": "code",
      "source": [
        "# lets index on the  most inner bracket (last dim)\n",
        "x[0][0][0]"
      ],
      "metadata": {
        "colab": {
          "base_uri": "https://localhost:8080/"
        },
        "id": "miwXBGjWyvyu",
        "outputId": "720b3559-f8c2-413e-d899-37429dc90d30"
      },
      "execution_count": 62,
      "outputs": [
        {
          "output_type": "execute_result",
          "data": {
            "text/plain": [
              "1"
            ]
          },
          "metadata": {},
          "execution_count": 62
        }
      ]
    },
    {
      "cell_type": "code",
      "source": [
        "x[0][2][2]"
      ],
      "metadata": {
        "colab": {
          "base_uri": "https://localhost:8080/"
        },
        "id": "jDGCn6XnzH03",
        "outputId": "60fe39c4-be17-4aef-adfa-15f962460d1d"
      },
      "execution_count": 66,
      "outputs": [
        {
          "output_type": "execute_result",
          "data": {
            "text/plain": [
              "tensor(9)"
            ]
          },
          "metadata": {},
          "execution_count": 66
        }
      ]
    },
    {
      "cell_type": "code",
      "source": [
        "#  you can also use the : to select all of a target dim\n",
        "x[:,:,0]"
      ],
      "metadata": {
        "colab": {
          "base_uri": "https://localhost:8080/"
        },
        "id": "khdy8tIEzod5",
        "outputId": "dea62efd-b2cb-4c0b-8456-be0bf638e7aa"
      },
      "execution_count": 69,
      "outputs": [
        {
          "output_type": "execute_result",
          "data": {
            "text/plain": [
              "tensor([[1, 4, 7]])"
            ]
          },
          "metadata": {},
          "execution_count": 69
        }
      ]
    },
    {
      "cell_type": "markdown",
      "source": [
        "## PyTorch tensors & NumPy\n",
        "\n",
        "1.   from np to tensor -> torch .from_numpy\n",
        "2.   from tensor to np -> tensor.numpy()\n",
        "\n"
      ],
      "metadata": {
        "id": "jBzDRKn3174o"
      }
    },
    {
      "cell_type": "code",
      "source": [
        "import torch\n",
        "import numpy as np\n",
        "\n",
        "#  numpy to tensor\n",
        "array = np.arange(1.0,8.0)\n",
        "tensor = torch.from_numpy(array)\n",
        "# warning  when converting from np to tensor pytorch reflects np default dtype of float64 unless you specify otherwise\n",
        "array, tensor"
      ],
      "metadata": {
        "colab": {
          "base_uri": "https://localhost:8080/"
        },
        "id": "89BpNEiW0YyL",
        "outputId": "4bfdf6a5-f912-4768-a456-7eb971faa3ee"
      },
      "execution_count": 70,
      "outputs": [
        {
          "output_type": "execute_result",
          "data": {
            "text/plain": [
              "(array([1., 2., 3., 4., 5., 6., 7.]),\n",
              " tensor([1., 2., 3., 4., 5., 6., 7.], dtype=torch.float64))"
            ]
          },
          "metadata": {},
          "execution_count": 70
        }
      ]
    },
    {
      "cell_type": "code",
      "source": [
        "#  tensor to numpy\n",
        "tensor = torch.ones(7)\n",
        "numpy_tensor = tensor.numpy()\n",
        "\n",
        "tensor, numpy_tensor\n"
      ],
      "metadata": {
        "colab": {
          "base_uri": "https://localhost:8080/"
        },
        "id": "2mTlpB-v3XLb",
        "outputId": "cf2e5aa1-8c08-48f6-d4ae-376d4cc07d81"
      },
      "execution_count": 72,
      "outputs": [
        {
          "output_type": "execute_result",
          "data": {
            "text/plain": [
              "(tensor([1., 1., 1., 1., 1., 1., 1.]),\n",
              " array([1., 1., 1., 1., 1., 1., 1.], dtype=float32))"
            ]
          },
          "metadata": {},
          "execution_count": 72
        }
      ]
    },
    {
      "cell_type": "code",
      "source": [],
      "metadata": {
        "id": "X006kM5u4BzU"
      },
      "execution_count": null,
      "outputs": []
    }
  ]
}